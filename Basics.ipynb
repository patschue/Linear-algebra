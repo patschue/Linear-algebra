{
 "cells": [
  {
   "cell_type": "code",
   "execution_count": 2,
   "metadata": {},
   "outputs": [],
   "source": [
    "import numpy as np "
   ]
  },
  {
   "cell_type": "markdown",
   "metadata": {},
   "source": [
    "## LE1\n",
    "#### Eigenwerte, Eigenraum, Eigenvektoren"
   ]
  },
  {
   "cell_type": "code",
   "execution_count": 8,
   "metadata": {},
   "outputs": [
    {
     "data": {
      "text/plain": [
       "(array([2., 1., 2.]),\n",
       " array([[ 0.        , -0.81649658,  0.706555  ],\n",
       "        [ 1.        ,  0.40824829,  0.03949763],\n",
       "        [ 0.        ,  0.40824829, -0.706555  ]]))"
      ]
     },
     "execution_count": 8,
     "metadata": {},
     "output_type": "execute_result"
    }
   ],
   "source": [
    "A = np.array([[0, 0, -2], [1, 2, 1], [1, 0, 3]])\n",
    "eigenwerte, eigenvektoren = np.linalg.eig(A)\n",
    "eigenwerte, eigenvektoren"
   ]
  },
  {
   "cell_type": "code",
   "execution_count": 9,
   "metadata": {},
   "outputs": [
    {
     "data": {
      "text/plain": [
       "array([0., 1., 0.])"
      ]
     },
     "execution_count": 9,
     "metadata": {},
     "output_type": "execute_result"
    }
   ],
   "source": [
    "eigenvektoren[:, 0]"
   ]
  },
  {
   "cell_type": "markdown",
   "metadata": {},
   "source": [
    "#### Diagonalisierung"
   ]
  },
  {
   "cell_type": "code",
   "execution_count": 12,
   "metadata": {},
   "outputs": [
    {
     "data": {
      "text/plain": [
       "(array([[2., 0., 0.],\n",
       "        [0., 1., 0.],\n",
       "        [0., 0., 2.]]),\n",
       " array([[ 0.        , -0.81649658,  0.706555  ],\n",
       "        [ 1.        ,  0.40824829,  0.03949763],\n",
       "        [ 0.        ,  0.40824829, -0.706555  ]]),\n",
       " array([[ 1.0559017 ,  1.        ,  1.1118034 ],\n",
       "        [-2.44948974, -0.        , -2.44948974],\n",
       "        [-1.41531799, -0.        , -2.83063597]]))"
      ]
     },
     "execution_count": 12,
     "metadata": {},
     "output_type": "execute_result"
    }
   ],
   "source": [
    "D = np.diag(eigenwerte)\n",
    "V = eigenvektoren\n",
    "Vinv = np.linalg.inv(V)\n",
    "D, V, Vinv"
   ]
  },
  {
   "cell_type": "code",
   "execution_count": 15,
   "metadata": {},
   "outputs": [
    {
     "name": "stdout",
     "output_type": "stream",
     "text": [
      "[[ 0  0 -2]\n",
      " [ 1  2  1]\n",
      " [ 1  0  3]] [[-1.24420965e-16  0.00000000e+00 -2.00000000e+00]\n",
      " [ 1.00000000e+00  2.00000000e+00  1.00000000e+00]\n",
      " [ 1.00000000e+00  0.00000000e+00  3.00000000e+00]]\n"
     ]
    }
   ],
   "source": [
    "Aindirekt = V.dot(D.dot(Vinv))\n",
    "print(A, Aindirekt)\n",
    "np.testing.assert_almost_equal(A, Aindirekt)"
   ]
  },
  {
   "cell_type": "markdown",
   "metadata": {},
   "source": [
    "Matrix-Quadrat via Diagonalisierung"
   ]
  },
  {
   "cell_type": "code",
   "execution_count": 16,
   "metadata": {},
   "outputs": [
    {
     "data": {
      "text/plain": [
       "array([[-2.,  0., -6.],\n",
       "       [ 3.,  4.,  3.],\n",
       "       [ 3.,  0.,  7.]])"
      ]
     },
     "execution_count": 16,
     "metadata": {},
     "output_type": "execute_result"
    }
   ],
   "source": [
    "n = 2\n",
    "Dpower = np.linalg.matrix_power(D, n)\n",
    "Apower = V.dot(Dpower.dot(Vinv))\n",
    "Apower"
   ]
  },
  {
   "cell_type": "markdown",
   "metadata": {},
   "source": [
    "## LE2\n",
    "#### Positiv Definit"
   ]
  },
  {
   "cell_type": "code",
   "execution_count": 18,
   "metadata": {},
   "outputs": [
    {
     "name": "stdout",
     "output_type": "stream",
     "text": [
      "True\n"
     ]
    }
   ],
   "source": [
    "print(np.all(eigenwerte>0))"
   ]
  },
  {
   "cell_type": "markdown",
   "metadata": {},
   "source": [
    "## LE 4\n",
    "#### Normen Vektoren"
   ]
  },
  {
   "cell_type": "code",
   "execution_count": 19,
   "metadata": {},
   "outputs": [],
   "source": [
    "B = np.array([0, 2, -1])"
   ]
  },
  {
   "cell_type": "code",
   "execution_count": 24,
   "metadata": {},
   "outputs": [
    {
     "name": "stdout",
     "output_type": "stream",
     "text": [
      "Euklidisch:  2.23606797749979\n",
      "Manhattan/L1:  3.0\n",
      "L0:  2.0\n",
      "Max:  2.0\n"
     ]
    }
   ],
   "source": [
    "print(\"Euklidisch: \", np.linalg.norm(B))\n",
    "print(\"Manhattan/L1: \", np.linalg.norm(B, ord = 1))\n",
    "print(\"L0: \", np.linalg.norm(B, ord = 0))\n",
    "print(\"Max: \", np.linalg.norm(B, ord = np.inf))"
   ]
  },
  {
   "cell_type": "markdown",
   "metadata": {},
   "source": [
    "#### Normen Matrizen"
   ]
  },
  {
   "cell_type": "code",
   "execution_count": 33,
   "metadata": {},
   "outputs": [
    {
     "name": "stdout",
     "output_type": "stream",
     "text": [
      "Frobenius:  4.47213595499958\n",
      "Summennorm:  10\n",
      "Spaltensummen:  6.0\n",
      "Spaltensummen:  6\n",
      "Spektralnorm:  3.968118785068667\n",
      "Zwischensummennorm:  4.0\n",
      "Zeilensummen:  4\n"
     ]
    }
   ],
   "source": [
    "print(\"Frobenius: \", np.linalg.norm(A))\n",
    "print(\"Summennorm: \", np.sum(np.abs(A)))\n",
    "print(\"Spaltensummen: \", np.linalg.norm(A, ord = 1))\n",
    "print(\"Spaltensummen: \", np.max(np.sum(np.abs(A), axis = 0)))\n",
    "print(\"Spektralnorm: \", np.linalg.norm(A, ord = 2))\n",
    "print(\"Zwischensummennorm: \", np.linalg.norm(A, ord = np.inf))\n",
    "print(\"Zeilensummen: \", np.max(np.sum(np.abs(A), axis = 1)))"
   ]
  },
  {
   "cell_type": "markdown",
   "metadata": {},
   "source": [
    "## LE5\n",
    "#### Singulärwertzerlegung"
   ]
  },
  {
   "cell_type": "code",
   "execution_count": null,
   "metadata": {},
   "outputs": [],
   "source": [
    "# Import Image\n",
    "# C = plt.imread(\"noise.jpg\")\n",
    "# plt.imshow(C, cmap = \"gray\")"
   ]
  },
  {
   "cell_type": "code",
   "execution_count": 35,
   "metadata": {},
   "outputs": [
    {
     "data": {
      "text/plain": [
       "array([[ 1,  2,  3,  4],\n",
       "       [49,  5, 60,  4],\n",
       "       [79,  8,  9,  4],\n",
       "       [ 1, 28,  3,  4]])"
      ]
     },
     "execution_count": 35,
     "metadata": {},
     "output_type": "execute_result"
    }
   ],
   "source": [
    "C = np.array([[1, 2, 3, 4],\n",
    "    [49, 5, 60, 4],\n",
    "    [79, 8, 9, 4],\n",
    "    [1, 28, 3, 4]])\n",
    "C"
   ]
  },
  {
   "cell_type": "code",
   "execution_count": 39,
   "metadata": {},
   "outputs": [
    {
     "name": "stdout",
     "output_type": "stream",
     "text": [
      "[[ 1.  2.  3.  4.]\n",
      " [49.  5. 60.  4.]\n",
      " [79.  8.  9.  4.]\n",
      " [ 1. 28.  3.  4.]]\n"
     ]
    }
   ],
   "source": [
    "U, E, V = np.linalg.svd(C, full_matrices=False)\n",
    "U.shape, E.shape, V.shape\n",
    "Cnew = U.dot(np.diag(E).dot(V))\n",
    "print(Cnew)\n",
    "np.testing.assert_almost_equal(C, Cnew)"
   ]
  },
  {
   "cell_type": "code",
   "execution_count": 42,
   "metadata": {},
   "outputs": [
    {
     "name": "stdout",
     "output_type": "stream",
     "text": [
      "[[ 2.37780275  0.28089201  1.2624338   0.15600899]\n",
      " [62.84595216  7.42404967 33.36645743  4.12335872]\n",
      " [65.36663498  7.72182023 34.70474976  4.28874216]\n",
      " [ 4.74016566  0.55996009  2.51667021  0.31100497]]\n",
      "[[ 1.35067753  0.2453069   3.2019122   0.18058226]\n",
      " [48.78554788  6.93692205 59.91614188  4.45974426]\n",
      " [78.98238354  8.1935426   8.99469046  3.9629947 ]\n",
      " [ 3.91026421  0.53120787  4.08373905  0.33085979]]\n",
      "[[ 1.  2.  3.  4.]\n",
      " [49.  5. 60.  4.]\n",
      " [79.  8.  9.  4.]\n",
      " [ 1. 28.  3.  4.]]\n"
     ]
    }
   ],
   "source": [
    "def truncated_SVD(U, E, V, k):\n",
    "    U = U[:,:k]\n",
    "    E = np.diag(E[:k])\n",
    "    V = V[:k]\n",
    "    ACnew2 = U.dot(E.dot(V))\n",
    "    print(ACnew2)\n",
    "\n",
    "lst = [1, 2, 5]\n",
    "\n",
    "for x in lst:\n",
    "    truncated_SVD(U, E, V, x)"
   ]
  }
 ],
 "metadata": {
  "kernelspec": {
   "display_name": "Python 3.9.7 ('base')",
   "language": "python",
   "name": "python3"
  },
  "language_info": {
   "codemirror_mode": {
    "name": "ipython",
    "version": 3
   },
   "file_extension": ".py",
   "mimetype": "text/x-python",
   "name": "python",
   "nbconvert_exporter": "python",
   "pygments_lexer": "ipython3",
   "version": "3.9.7"
  },
  "orig_nbformat": 4,
  "vscode": {
   "interpreter": {
    "hash": "ad2bdc8ecc057115af97d19610ffacc2b4e99fae6737bb82f5d7fb13d2f2c186"
   }
  }
 },
 "nbformat": 4,
 "nbformat_minor": 2
}
